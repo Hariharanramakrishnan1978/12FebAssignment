{
 "cells": [
  {
   "cell_type": "markdown",
   "id": "d018d780-ee33-4ceb-8575-743e294652dc",
   "metadata": {},
   "source": [
    "Q1. What is an Exception in python? Write the difference between Exceptions and Syntax errors."
   ]
  },
  {
   "cell_type": "markdown",
   "id": "903e1774-5645-4ea4-b46f-09c3427ffad4",
   "metadata": {},
   "source": [
    "Ans:\n",
    "When a Python program meets an error, it stops the execution of the rest of the program. An error in Python might be either an error in the syntax of an expression or a Python exception.\n",
    "An exception in Python is an incident that happens while executing a program that causes the regular course of the program's commands to be disrupted. When a Python code comes across a condition it can't handle, it raises an exception. An object in Python that describes an error is called an exception.\n",
    "\n",
    "Exception Vs Error:\n",
    "When error condition is not handled properly, program will abruptly stop its execution. When an error is handled using Exception blocks, program recovers itself and continues to execute further"
   ]
  },
  {
   "cell_type": "markdown",
   "id": "71655964-219b-4d7e-84ad-9ec6e05c0d2a",
   "metadata": {},
   "source": [
    "Q2. What happens when an exception is not handled? Explain with an example."
   ]
  },
  {
   "cell_type": "markdown",
   "id": "9b2869fd-6f03-427d-8c97-f657006d208e",
   "metadata": {},
   "source": [
    "Ans:\n",
    "When exception is not handled and when error condition met during execution, program halts there completely and subsequent code will not be executed.\n",
    "\n",
    "Example)"
   ]
  },
  {
   "cell_type": "code",
   "execution_count": 6,
   "id": "8913d1e0-4194-46d0-9aa2-32b0b3274d28",
   "metadata": {},
   "outputs": [
    {
     "ename": "NameError",
     "evalue": "name 'o' is not defined",
     "output_type": "error",
     "traceback": [
      "\u001b[0;31m---------------------------------------------------------------------------\u001b[0m",
      "\u001b[0;31mNameError\u001b[0m                                 Traceback (most recent call last)",
      "Cell \u001b[0;32mIn[6], line 3\u001b[0m\n\u001b[1;32m      1\u001b[0m string \u001b[38;5;241m=\u001b[39m\u001b[38;5;124m\"\u001b[39m\u001b[38;5;124mHello World\u001b[39m\u001b[38;5;124m\"\u001b[39m\n\u001b[1;32m      2\u001b[0m \u001b[38;5;28;01mfor\u001b[39;00m s \u001b[38;5;129;01min\u001b[39;00m string:\n\u001b[0;32m----> 3\u001b[0m \t\u001b[38;5;28;01mif\u001b[39;00m (s\u001b[38;5;241m!=\u001b[39m\u001b[43mo\u001b[49m):\n\u001b[1;32m      4\u001b[0m \t\tPrint (s)\n",
      "\u001b[0;31mNameError\u001b[0m: name 'o' is not defined"
     ]
    }
   ],
   "source": [
    "string =\"Hello World\"\n",
    "for s in string:\n",
    "\tif (s!=o):\n",
    "\t\tPrint (s)"
   ]
  },
  {
   "cell_type": "markdown",
   "id": "382bcf34-1483-4b9c-a0bf-ebb0b8df6b43",
   "metadata": {},
   "source": [
    "Here we get NameError: name 'o' is not defined.\n",
    "\n",
    "Since we have not given o as “o” and hence it tries it as variable and such variable does not exist and hence we get NameError"
   ]
  },
  {
   "cell_type": "markdown",
   "id": "1ff1e8c0-5a68-44e1-8d8b-dd2bd0545b9d",
   "metadata": {},
   "source": [
    "Q3. Which Python statements are used to catch and handle exceptions? Explain with an example.\n",
    "\n",
    "Ans:\n",
    "except: is the block that handles the exception whatever is caught in try block\n",
    "\n",
    "Example)"
   ]
  },
  {
   "cell_type": "code",
   "execution_count": 22,
   "id": "9c168131-59dd-4770-8016-1bf13f438c16",
   "metadata": {},
   "outputs": [
    {
     "name": "stdout",
     "output_type": "stream",
     "text": [
      "The index and element from the array is 0 Py\n",
      "The index and element from the array is 1 Exceptions\n",
      "The index and element from the array is 2 try and except\n",
      "Index out of range\n"
     ]
    }
   ],
   "source": [
    "a=[\"Py\",\"Exceptions\",\"try and except\"]\n",
    "try:\n",
    "    for i in range(4):\n",
    "        print(\"The index and element from the array is\",i,a[i])\n",
    "except:\n",
    "    print(\"Index out of range\")"
   ]
  },
  {
   "cell_type": "markdown",
   "id": "6ce44130-2b52-4f5e-9f16-e6eff643ab28",
   "metadata": {},
   "source": [
    "Q4. Explain with an example:#\n",
    "\f",
    "\u001d",
    " try and else#\n",
    "\u0007\u001d",
    " finall\n",
    "\n",
    "+\u001d",
    " raise "
   ]
  },
  {
   "cell_type": "code",
   "execution_count": 23,
   "id": "f8b5242c-4f4b-415e-9457-72ee05b4dd28",
   "metadata": {},
   "outputs": [
    {
     "name": "stdout",
     "output_type": "stream",
     "text": [
      "Yeah ! Your answer is : 2\n",
      "This is always executed\n",
      "Sorry ! You are dividing by zero \n",
      "This is always executed\n",
      "Yeah ! Your answer is : 1\n",
      "This is always executed\n"
     ]
    }
   ],
   "source": [
    "def divide(x, y):\n",
    "    try:\n",
    "        # Floor Division : Gives only Fractional\n",
    "        # Part as Answer\n",
    "        result = x // y\n",
    "    except ZeroDivisionError:\n",
    "        print(\"Sorry ! You are dividing by zero \")\n",
    "    else:\n",
    "        print(\"Yeah ! Your answer is :\", result)\n",
    "    finally:\n",
    "        # this block is always executed\n",
    "        # regardless of exception generation.\n",
    "        print('This is always executed')\n",
    "\n",
    "    # Look at parameters and note the working of Program\n",
    "\n",
    "\n",
    "divide(4, 2)\n",
    "divide(4, 0)\n",
    "divide(4, 3)"
   ]
  },
  {
   "cell_type": "markdown",
   "id": "ebfae88c-265c-49fd-b4d4-84b2982ecd07",
   "metadata": {},
   "source": [
    "In this example, function divide is created by passing two variables x and y.\n",
    "\n",
    "When y is provided as value 0, since anything divided by 0 is infinite, it generates error Zero division error. Through this Exception handling mechanism it is caught in ZeroDivisionError and program continues\n",
    "\n",
    "When y is given with any other value than 0, try part is executed, followed by else and finally into finally block. All these 3 are executed.\n",
    "\n",
    "Raise: It is used to raise exception with custom messages as described below:"
   ]
  },
  {
   "cell_type": "code",
   "execution_count": 26,
   "id": "403e7f15-68fa-41fe-9778-8e17e2b5fa56",
   "metadata": {},
   "outputs": [
    {
     "ename": "TypeError",
     "evalue": "Only integers are allowed",
     "output_type": "error",
     "traceback": [
      "\u001b[0;31m---------------------------------------------------------------------------\u001b[0m",
      "\u001b[0;31mTypeError\u001b[0m                                 Traceback (most recent call last)",
      "Cell \u001b[0;32mIn[26], line 3\u001b[0m\n\u001b[1;32m      1\u001b[0m x\u001b[38;5;241m=\u001b[39m\u001b[38;5;124m\"\u001b[39m\u001b[38;5;124mhello\u001b[39m\u001b[38;5;124m\"\u001b[39m\n\u001b[1;32m      2\u001b[0m \u001b[38;5;28;01mif\u001b[39;00m \u001b[38;5;129;01mnot\u001b[39;00m \u001b[38;5;28mtype\u001b[39m(x) \u001b[38;5;129;01mis\u001b[39;00m \u001b[38;5;28mint\u001b[39m:\n\u001b[0;32m----> 3\u001b[0m     \u001b[38;5;28;01mraise\u001b[39;00m \u001b[38;5;167;01mTypeError\u001b[39;00m(\u001b[38;5;124m\"\u001b[39m\u001b[38;5;124mOnly integers are allowed\u001b[39m\u001b[38;5;124m\"\u001b[39m)\n",
      "\u001b[0;31mTypeError\u001b[0m: Only integers are allowed"
     ]
    }
   ],
   "source": [
    "x=\"hello\"\n",
    "if not type(x) is int:\n",
    "    raise TypeError(\"Only integers are allowed\")"
   ]
  },
  {
   "cell_type": "markdown",
   "id": "525ad87e-5a4d-4468-9d41-42b52c3337cb",
   "metadata": {},
   "source": [
    "Q5. What are Custom Exceptions in python? Why do we need Custom Exceptions? Explain with an example."
   ]
  },
  {
   "cell_type": "markdown",
   "id": "39ba444e-6311-485b-9f39-a6c5e5663358",
   "metadata": {},
   "source": [
    "Ans:\n",
    "\n",
    "In Python, we can define custom exceptions by creating a new class that is derived from the built-in Exception class"
   ]
  },
  {
   "cell_type": "code",
   "execution_count": 28,
   "id": "8dff3e2a-ae90-4255-8d43-a5dc3ab61d13",
   "metadata": {},
   "outputs": [
    {
     "name": "stdin",
     "output_type": "stream",
     "text": [
      "Enter a number:  7\n"
     ]
    },
    {
     "name": "stdout",
     "output_type": "stream",
     "text": [
      "Exception occurred: Invalid Age\n"
     ]
    }
   ],
   "source": [
    "class InvalidAgeException(Exception):\n",
    "    \"Raised when the input value is less than 18\"\n",
    "    pass\n",
    "\n",
    "\n",
    "# you need to guess this number\n",
    "number = 18\n",
    "\n",
    "try:\n",
    "    input_num = int(input(\"Enter a number: \"))\n",
    "    if input_num < number:\n",
    "        raise InvalidAgeException\n",
    "    else:\n",
    "        print(\"Eligible to Vote\")\n",
    "\n",
    "except InvalidAgeException:\n",
    "    print(\"Exception occurred: Invalid Age\")"
   ]
  },
  {
   "cell_type": "markdown",
   "id": "3c71faa5-7fc5-48a7-bcde-58eb1aa6a993",
   "metadata": {},
   "source": [
    "Here we have created custom exception class called as InvalidAgeException and inherited Exception class to it\n",
    "\n",
    "When the Age is given less than 18 then exception block is invoked and it will print Exception occurred: Invalid Age"
   ]
  },
  {
   "cell_type": "markdown",
   "id": "52653107-0528-4f2b-b61a-6ca8b03fea68",
   "metadata": {},
   "source": [
    "Q6. Create a custom exception class. Use this class to handle an exception"
   ]
  },
  {
   "cell_type": "markdown",
   "id": "151c589d-080b-490e-b8e4-dc134e22a2df",
   "metadata": {},
   "source": [
    "Ans:\n",
    "To create a custom exception class, you define a class that inherits from the built-in Exception class or one of its subclasses such as ValueError class:"
   ]
  },
  {
   "cell_type": "code",
   "execution_count": 29,
   "id": "6775c2d3-2fb4-4872-b02d-41847215978b",
   "metadata": {},
   "outputs": [
    {
     "name": "stdout",
     "output_type": "stream",
     "text": [
      "A New Exception occurred:  6\n"
     ]
    }
   ],
   "source": [
    "class MyError(Exception):\n",
    "\n",
    "    # Constructor or Initializer\n",
    "    def __init__(self, value):\n",
    "        self.value = value\n",
    "\n",
    "    # __str__ is to print() the value\n",
    "    def __str__(self):\n",
    "        return (repr(self.value))\n",
    "\n",
    "\n",
    "try:\n",
    "    raise (MyError(3 * 2))\n",
    "\n",
    "# Value of Exception is stored in error\n",
    "except MyError as error:\n",
    "    print('A New Exception occurred: ', error.value)"
   ]
  },
  {
   "cell_type": "code",
   "execution_count": null,
   "id": "25f46a53-73ea-4dc8-bb5d-315e9cd802ab",
   "metadata": {},
   "outputs": [],
   "source": []
  }
 ],
 "metadata": {
  "kernelspec": {
   "display_name": "Python 3 (ipykernel)",
   "language": "python",
   "name": "python3"
  },
  "language_info": {
   "codemirror_mode": {
    "name": "ipython",
    "version": 3
   },
   "file_extension": ".py",
   "mimetype": "text/x-python",
   "name": "python",
   "nbconvert_exporter": "python",
   "pygments_lexer": "ipython3",
   "version": "3.10.8"
  }
 },
 "nbformat": 4,
 "nbformat_minor": 5
}
